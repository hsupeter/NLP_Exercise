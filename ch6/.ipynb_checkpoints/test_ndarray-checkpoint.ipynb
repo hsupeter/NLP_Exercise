{
 "cells": [
  {
   "cell_type": "code",
   "execution_count": 1,
   "metadata": {},
   "outputs": [
    {
     "name": "stderr",
     "output_type": "stream",
     "text": [
      "C:\\Peter\\Anaconda36\\lib\\site-packages\\h5py\\__init__.py:36: FutureWarning: Conversion of the second argument of issubdtype from `float` to `np.floating` is deprecated. In future, it will be treated as `np.float64 == np.dtype(float).type`.\n",
      "  from ._conv import register_converters as _register_converters\n"
     ]
    }
   ],
   "source": [
    "import numpy as np\n",
    "import tensorflow as tf\n"
   ]
  },
  {
   "cell_type": "code",
   "execution_count": 4,
   "metadata": {},
   "outputs": [
    {
     "name": "stdout",
     "output_type": "stream",
     "text": [
      "a1:\n",
      " [[0. 1. 2. 3. 4.]\n",
      " [5. 6. 7. 8. 9.]]\n",
      "a2:\n",
      " [[10. 12. 14. 16. 18.]\n",
      " [20. 22. 24. 26. 28.]]\n",
      "a3:\n",
      " [[ 6.  8. 10. 12. 14.]\n",
      " [16. 18. 20. 22. 24.]]\n",
      "a:\n",
      " [array([[0., 1., 2., 3., 4.],\n",
      "       [5., 6., 7., 8., 9.]]), array([[10., 12., 14., 16., 18.],\n",
      "       [20., 22., 24., 26., 28.]]), array([[ 6.,  8., 10., 12., 14.],\n",
      "       [16., 18., 20., 22., 24.]])]\n"
     ]
    }
   ],
   "source": [
    "a1= np.array([[0., 1., 2., 3., 4.],  [5., 6., 7., 8., 9.]])\n",
    "a2= np.array([[10.,12.,14.,16.,18.], [20.,22.,24.,26.,28.]])\n",
    "a3= np.array([[ 6., 8.,10.,12.,14.], [16.,18.,20.,22.,24.]])\n",
    "a = [a1,  a2,  a3]\n",
    "print('a1:\\n', a1)\n",
    "print('a2:\\n', a2)\n",
    "print('a3:\\n', a3)\n",
    "print('a:\\n', a)"
   ]
  },
  {
   "cell_type": "code",
   "execution_count": 6,
   "metadata": {},
   "outputs": [
    {
     "name": "stdout",
     "output_type": "stream",
     "text": [
      "b1:\n",
      " [[50. 52. 54. 56. 58.]\n",
      " [60. 62. 64. 66. 68.]]\n",
      "b2:\n",
      " [[30. 32. 34. 36. 38.]\n",
      " [40. 42. 44. 46. 48.]]\n",
      "b3:\n",
      " [[12. 14. 16. 18. 20.]\n",
      " [22. 24. 26. 28. 30.]]\n",
      "b:\n",
      " [array([[50., 52., 54., 56., 58.],\n",
      "       [60., 62., 64., 66., 68.]]), array([[30., 32., 34., 36., 38.],\n",
      "       [40., 42., 44., 46., 48.]]), array([[12., 14., 16., 18., 20.],\n",
      "       [22., 24., 26., 28., 30.]])]\n"
     ]
    }
   ],
   "source": [
    "b1= np.array([[50.,52.,54.,56.,58.], [60., 62., 64., 66., 68.]])\n",
    "b2= np.array([[30.,32.,34.,36.,38.], [40., 42., 44., 46., 48.]])\n",
    "b3= np.array([[12.,14.,16.,18.,20.], [22., 24., 26., 28., 30.]])\n",
    "b = [b1,  b2,  b3]\n",
    "print('b1:\\n', b1)\n",
    "print('b2:\\n', b2)\n",
    "print('b3:\\n', b3)\n",
    "print('b:\\n', b)"
   ]
  },
  {
   "cell_type": "code",
   "execution_count": 7,
   "metadata": {},
   "outputs": [
    {
     "name": "stdout",
     "output_type": "stream",
     "text": [
      "a_array_325:\n",
      " [[[ 0.  1.  2.  3.  4.]\n",
      "  [ 5.  6.  7.  8.  9.]]\n",
      "\n",
      " [[10. 12. 14. 16. 18.]\n",
      "  [20. 22. 24. 26. 28.]]\n",
      "\n",
      " [[ 6.  8. 10. 12. 14.]\n",
      "  [16. 18. 20. 22. 24.]]]\n",
      "b_array_325:\n",
      " [[[50. 52. 54. 56. 58.]\n",
      "  [60. 62. 64. 66. 68.]]\n",
      "\n",
      " [[30. 32. 34. 36. 38.]\n",
      "  [40. 42. 44. 46. 48.]]\n",
      "\n",
      " [[12. 14. 16. 18. 20.]\n",
      "  [22. 24. 26. 28. 30.]]]\n"
     ]
    }
   ],
   "source": [
    "a_array_325= np.array(a)\n",
    "b_array_325= np.array(b)\n",
    "print('a_array_325:\\n', a_array_325)\n",
    "print('b_array_325:\\n', b_array_325)"
   ]
  },
  {
   "cell_type": "code",
   "execution_count": 8,
   "metadata": {},
   "outputs": [
    {
     "name": "stdout",
     "output_type": "stream",
     "text": [
      "a_array_235:\n",
      " [[[ 0.  1.  2.  3.  4.]\n",
      "  [10. 12. 14. 16. 18.]\n",
      "  [ 6.  8. 10. 12. 14.]]\n",
      "\n",
      " [[ 5.  6.  7.  8.  9.]\n",
      "  [20. 22. 24. 26. 28.]\n",
      "  [16. 18. 20. 22. 24.]]]\n",
      "b_array_235:\n",
      " [[[50. 52. 54. 56. 58.]\n",
      "  [30. 32. 34. 36. 38.]\n",
      "  [12. 14. 16. 18. 20.]]\n",
      "\n",
      " [[60. 62. 64. 66. 68.]\n",
      "  [40. 42. 44. 46. 48.]\n",
      "  [22. 24. 26. 28. 30.]]]\n"
     ]
    }
   ],
   "source": [
    "a_array_235 = np.reshape(np.hstack(a_array_325), (2, 3, 5))\n",
    "b_array_235 = np.reshape(np.hstack(b_array_325), (2, 3, 5))\n",
    "print('a_array_235:\\n', a_array_235)\n",
    "print('b_array_235:\\n', b_array_235)"
   ]
  },
  {
   "cell_type": "code",
   "execution_count": 11,
   "metadata": {},
   "outputs": [
    {
     "name": "stdout",
     "output_type": "stream",
     "text": [
      "a235_m_b235: (2, 3, 5) \n",
      " [[[   0.   52.  108.  168.  232.]\n",
      "  [ 300.  384.  476.  576.  684.]\n",
      "  [  72.  112.  160.  216.  280.]]\n",
      "\n",
      " [[ 300.  372.  448.  528.  612.]\n",
      "  [ 800.  924. 1056. 1196. 1344.]\n",
      "  [ 352.  432.  520.  616.  720.]]]\n"
     ]
    }
   ],
   "source": [
    "a235_m_b235 = (a_array_235 * b_array_235)\n",
    "print('a235_m_b235:', a235_m_b235.shape,'\\n', a235_m_b235)"
   ]
  },
  {
   "cell_type": "code",
   "execution_count": 13,
   "metadata": {},
   "outputs": [
    {
     "name": "stdout",
     "output_type": "stream",
     "text": [
      "ab235_avg:\n",
      " 2340.0\n"
     ]
    }
   ],
   "source": [
    "ab235_avg = tf.reduce_sum(a235_m_b235)/(2*3)\n",
    "sess = tf.Session()\n",
    "ab235_avg_v = sess.run(ab235_avg)\n",
    "print('ab235_avg:\\n', ab235_avg_v)\n",
    "sess.close()"
   ]
  },
  {
   "cell_type": "code",
   "execution_count": 15,
   "metadata": {},
   "outputs": [
    {
     "name": "stdout",
     "output_type": "stream",
     "text": [
      "rev_a_325  (3, 2, 5) \n",
      " [[[ 0.  1.  2.  3.  4.]\n",
      "  [ 5.  6.  7.  8.  9.]]\n",
      "\n",
      " [[10. 12. 14. 16. 18.]\n",
      "  [20. 22. 24. 26. 28.]]\n",
      "\n",
      " [[ 6.  8. 10. 12. 14.]\n",
      "  [16. 18. 20. 22. 24.]]]\n",
      "rev_b_325  (3, 2, 5) \n",
      " [[[50. 52. 54. 56. 58.]\n",
      "  [60. 62. 64. 66. 68.]]\n",
      "\n",
      " [[30. 32. 34. 36. 38.]\n",
      "  [40. 42. 44. 46. 48.]]\n",
      "\n",
      " [[12. 14. 16. 18. 20.]\n",
      "  [22. 24. 26. 28. 30.]]]\n"
     ]
    }
   ],
   "source": [
    "rev_a_325 = np.reshape(np.hstack(a_array_235), (3, 2, 5))\n",
    "rev_b_325 = np.reshape(np.hstack(b_array_235), (3, 2, 5))\n",
    "print('rev_a_325 ',rev_a_325.shape, '\\n', rev_a_325)                       \n",
    "print('rev_b_325 ',rev_b_325.shape, '\\n', rev_b_325)"
   ]
  },
  {
   "cell_type": "code",
   "execution_count": 17,
   "metadata": {},
   "outputs": [
    {
     "name": "stdout",
     "output_type": "stream",
     "text": [
      "a_array_325  (3, 2, 5) \n",
      " [[[ 0.  1.  2.  3.  4.]\n",
      "  [ 5.  6.  7.  8.  9.]]\n",
      "\n",
      " [[10. 12. 14. 16. 18.]\n",
      "  [20. 22. 24. 26. 28.]]\n",
      "\n",
      " [[ 6.  8. 10. 12. 14.]\n",
      "  [16. 18. 20. 22. 24.]]]\n",
      "b_array_325  (3, 2, 5) \n",
      " [[[50. 52. 54. 56. 58.]\n",
      "  [60. 62. 64. 66. 68.]]\n",
      "\n",
      " [[30. 32. 34. 36. 38.]\n",
      "  [40. 42. 44. 46. 48.]]\n",
      "\n",
      " [[12. 14. 16. 18. 20.]\n",
      "  [22. 24. 26. 28. 30.]]]\n"
     ]
    }
   ],
   "source": [
    "print('a_array_325 ',a_array_325.shape, '\\n', a_array_325)\n",
    "print('b_array_325 ',b_array_325.shape, '\\n', b_array_325)"
   ]
  },
  {
   "cell_type": "code",
   "execution_count": 18,
   "metadata": {},
   "outputs": [
    {
     "name": "stdout",
     "output_type": "stream",
     "text": [
      "a325_m_b325_rev: (3, 2, 5) \n",
      " [[[   0.   52.  108.  168.  232.]\n",
      "  [ 300.  372.  448.  528.  612.]]\n",
      "\n",
      " [[ 300.  384.  476.  576.  684.]\n",
      "  [ 800.  924. 1056. 1196. 1344.]]\n",
      "\n",
      " [[  72.  112.  160.  216.  280.]\n",
      "  [ 352.  432.  520.  616.  720.]]]\n"
     ]
    }
   ],
   "source": [
    "a325_m_b325_rev = rev_a_325 * rev_b_325\n",
    "print('a325_m_b325_rev:',a325_m_b325_rev.shape, '\\n', a325_m_b325_rev)"
   ]
  },
  {
   "cell_type": "code",
   "execution_count": 20,
   "metadata": {},
   "outputs": [
    {
     "name": "stdout",
     "output_type": "stream",
     "text": [
      "a235_m_b235: (2, 3, 5) \n",
      " [[[   0.   52.  108.  168.  232.]\n",
      "  [ 300.  384.  476.  576.  684.]\n",
      "  [  72.  112.  160.  216.  280.]]\n",
      "\n",
      " [[ 300.  372.  448.  528.  612.]\n",
      "  [ 800.  924. 1056. 1196. 1344.]\n",
      "  [ 352.  432.  520.  616.  720.]]]\n"
     ]
    }
   ],
   "source": [
    "print('a235_m_b235:',a235_m_b235.shape, '\\n', a235_m_b235)"
   ]
  },
  {
   "cell_type": "code",
   "execution_count": 40,
   "metadata": {},
   "outputs": [
    {
     "name": "stdout",
     "output_type": "stream",
     "text": [
      "ab325_avg:\n",
      " 2340.0\n"
     ]
    }
   ],
   "source": [
    "ab325_avg = tf.reduce_sum(a325_m_b325_rev)/(2*3)\n",
    "sess = tf.Session()\n",
    "ab325_avg_v = sess.run(ab325_avg)\n",
    "print('ab325_avg:\\n', ab325_avg_v)\n",
    "sess.close()"
   ]
  },
  {
   "cell_type": "code",
   "execution_count": 23,
   "metadata": {},
   "outputs": [
    {
     "name": "stdout",
     "output_type": "stream",
     "text": [
      "a25_list:\n",
      " [array([[0., 1., 2., 3., 4.],\n",
      "       [5., 6., 7., 8., 9.]]), array([[10., 12., 14., 16., 18.],\n",
      "       [20., 22., 24., 26., 28.]]), array([[ 6.,  8., 10., 12., 14.],\n",
      "       [16., 18., 20., 22., 24.]])]\n",
      "b25_list:\n",
      " [array([[50., 52., 54., 56., 58.],\n",
      "       [60., 62., 64., 66., 68.]]), array([[30., 32., 34., 36., 38.],\n",
      "       [40., 42., 44., 46., 48.]]), array([[12., 14., 16., 18., 20.],\n",
      "       [22., 24., 26., 28., 30.]])]\n"
     ]
    }
   ],
   "source": [
    "a25_list = []\n",
    "b25_list = []\n",
    "for ui in range(3):\n",
    "    aui = np.array(rev_a_325[ui])\n",
    "    a25_list.append(aui)\n",
    "    bui = np.array(rev_b_325[ui])\n",
    "    b25_list.append(bui)\n",
    "print('a25_list:\\n', a25_list)\n",
    "print('b25_list:\\n', b25_list)"
   ]
  },
  {
   "cell_type": "code",
   "execution_count": 24,
   "metadata": {},
   "outputs": [
    {
     "name": "stdout",
     "output_type": "stream",
     "text": [
      "a25_list:\n",
      " [array([[0., 1., 2., 3., 4.],\n",
      "       [5., 6., 7., 8., 9.]]), array([[10., 12., 14., 16., 18.],\n",
      "       [20., 22., 24., 26., 28.]]), array([[ 6.,  8., 10., 12., 14.],\n",
      "       [16., 18., 20., 22., 24.]])]\n",
      "\n",
      "a:\n",
      " [array([[0., 1., 2., 3., 4.],\n",
      "       [5., 6., 7., 8., 9.]]), array([[10., 12., 14., 16., 18.],\n",
      "       [20., 22., 24., 26., 28.]]), array([[ 6.,  8., 10., 12., 14.],\n",
      "       [16., 18., 20., 22., 24.]])]\n"
     ]
    }
   ],
   "source": [
    "print('a25_list:\\n', a25_list)\n",
    "print()\n",
    "print('a:\\n', a)"
   ]
  },
  {
   "cell_type": "code",
   "execution_count": 25,
   "metadata": {},
   "outputs": [
    {
     "name": "stdout",
     "output_type": "stream",
     "text": [
      "b25_list:\n",
      " [array([[50., 52., 54., 56., 58.],\n",
      "       [60., 62., 64., 66., 68.]]), array([[30., 32., 34., 36., 38.],\n",
      "       [40., 42., 44., 46., 48.]]), array([[12., 14., 16., 18., 20.],\n",
      "       [22., 24., 26., 28., 30.]])]\n",
      "\n",
      "b:\n",
      " [array([[50., 52., 54., 56., 58.],\n",
      "       [60., 62., 64., 66., 68.]]), array([[30., 32., 34., 36., 38.],\n",
      "       [40., 42., 44., 46., 48.]]), array([[12., 14., 16., 18., 20.],\n",
      "       [22., 24., 26., 28., 30.]])]\n"
     ]
    }
   ],
   "source": [
    "print('b25_list:\\n', b25_list)\n",
    "print()\n",
    "print('b:\\n', b)"
   ]
  },
  {
   "cell_type": "code",
   "execution_count": 41,
   "metadata": {},
   "outputs": [
    {
     "name": "stdout",
     "output_type": "stream",
     "text": [
      "concat_a25_list:\n",
      " [[ 0.  1.  2.  3.  4.]\n",
      " [ 5.  6.  7.  8.  9.]\n",
      " [10. 12. 14. 16. 18.]\n",
      " [20. 22. 24. 26. 28.]\n",
      " [ 6.  8. 10. 12. 14.]\n",
      " [16. 18. 20. 22. 24.]]\n",
      "concat_b25_list:\n",
      " [[50. 52. 54. 56. 58.]\n",
      " [60. 62. 64. 66. 68.]\n",
      " [30. 32. 34. 36. 38.]\n",
      " [40. 42. 44. 46. 48.]\n",
      " [12. 14. 16. 18. 20.]\n",
      " [22. 24. 26. 28. 30.]]\n",
      "a25_m_b25_avg:  2340.0\n"
     ]
    }
   ],
   "source": [
    "concat_a25_list = tf.concat(a25_list, 0)\n",
    "concat_b25_list = tf.concat(b25_list, 0)\n",
    "a25_m_b25_avg =tf.reduce_sum(concat_a25_list * concat_b25_list)/(3*2) \n",
    "sess = tf. Session()\n",
    "cona25, conab25, a25mb25avg =sess.run([concat_a25_list,\\\n",
    "                               concat_b25_list,a25_m_b25_avg])\n",
    "print('concat_a25_list:\\n', cona25)\n",
    "print('concat_b25_list:\\n', conab25)\n",
    "print('a25_m_b25_avg: ', a25mb25avg)\n",
    "sess.close()"
   ]
  },
  {
   "cell_type": "code",
   "execution_count": 30,
   "metadata": {},
   "outputs": [
    {
     "name": "stdout",
     "output_type": "stream",
     "text": [
      "a_array_325: (3, 2, 5) \n",
      " [[[ 0.  1.  2.  3.  4.]\n",
      "  [ 5.  6.  7.  8.  9.]]\n",
      "\n",
      " [[10. 12. 14. 16. 18.]\n",
      "  [20. 22. 24. 26. 28.]]\n",
      "\n",
      " [[ 6.  8. 10. 12. 14.]\n",
      "  [16. 18. 20. 22. 24.]]]\n",
      "\n",
      "a325_hst: (2, 15) \n",
      " [[ 0.  1.  2.  3.  4. 10. 12. 14. 16. 18.  6.  8. 10. 12. 14.]\n",
      " [ 5.  6.  7.  8.  9. 20. 22. 24. 26. 28. 16. 18. 20. 22. 24.]]\n",
      "\n",
      "a235: (2, 3, 5) \n",
      " [[[ 0.  1.  2.  3.  4.]\n",
      "  [10. 12. 14. 16. 18.]\n",
      "  [ 6.  8. 10. 12. 14.]]\n",
      "\n",
      " [[ 5.  6.  7.  8.  9.]\n",
      "  [20. 22. 24. 26. 28.]\n",
      "  [16. 18. 20. 22. 24.]]]\n"
     ]
    }
   ],
   "source": [
    "a325_hst = np.hstack(a_array_325)\n",
    "a235 = np.reshape(a325_hst, (2, 3, 5))\n",
    "print('a_array_325:', a_array_325.shape, '\\n', a_array_325)\n",
    "print()\n",
    "print('a325_hst:', a325_hst.shape, '\\n', a325_hst)\n",
    "print()\n",
    "print('a235:', a235.shape, '\\n', a235)"
   ]
  },
  {
   "cell_type": "code",
   "execution_count": 32,
   "metadata": {},
   "outputs": [
    {
     "name": "stdout",
     "output_type": "stream",
     "text": [
      "a235_hst: (2, 15) \n",
      " [[ 0.  1.  2.  3.  4.  5.  6.  7.  8.  9.]\n",
      " [10. 12. 14. 16. 18. 20. 22. 24. 26. 28.]\n",
      " [ 6.  8. 10. 12. 14. 16. 18. 20. 22. 24.]]\n",
      "\n",
      "a325: (3, 2, 5) \n",
      " [[[ 0.  1.  2.  3.  4.]\n",
      "  [ 5.  6.  7.  8.  9.]]\n",
      "\n",
      " [[10. 12. 14. 16. 18.]\n",
      "  [20. 22. 24. 26. 28.]]\n",
      "\n",
      " [[ 6.  8. 10. 12. 14.]\n",
      "  [16. 18. 20. 22. 24.]]]\n",
      "\n",
      "a_array_325: (3, 2, 5) \n",
      " [[[ 0.  1.  2.  3.  4.]\n",
      "  [ 5.  6.  7.  8.  9.]]\n",
      "\n",
      " [[10. 12. 14. 16. 18.]\n",
      "  [20. 22. 24. 26. 28.]]\n",
      "\n",
      " [[ 6.  8. 10. 12. 14.]\n",
      "  [16. 18. 20. 22. 24.]]]\n"
     ]
    }
   ],
   "source": [
    "a235_hst = np.hstack(a235)\n",
    "a325 = np.reshape(a235_hst, (3, 2, 5))\n",
    "print('a235_hst:', a325_hst.shape, '\\n', a235_hst)\n",
    "print()\n",
    "print('a325:', a325.shape, '\\n', a325)\n",
    "print()\n",
    "print('a_array_325:', a_array_325.shape, '\\n', a_array_325)\n"
   ]
  },
  {
   "cell_type": "code",
   "execution_count": 34,
   "metadata": {},
   "outputs": [
    {
     "name": "stdout",
     "output_type": "stream",
     "text": [
      "a325 shape: (3, 2, 5)\n",
      "a325 size axis 0: 3\n",
      "a325 size axis 1: 2\n",
      "a325 size axis 2: 5\n"
     ]
    }
   ],
   "source": [
    "print('a325 shape:', a325.shape)\n",
    "print('a325 size axis 0:', np.size(a325 ,0))\n",
    "print('a325 size axis 1:', np.size(a325 ,1))\n",
    "print('a325 size axis 2:', np.size(a325 ,2))"
   ]
  },
  {
   "cell_type": "code",
   "execution_count": 46,
   "metadata": {},
   "outputs": [
    {
     "name": "stdout",
     "output_type": "stream",
     "text": [
      "n_roll: 3\n",
      "batch_size: 2\n",
      "axis_1: 5\n"
     ]
    }
   ],
   "source": [
    "# a25_m_b25_avg =tf.reduce_sum(concat_a25_list * concat_b25_list)/(3*2)\n",
    "n_roll = len(a25_list)\n",
    "batch_size = np.size(a25_list[0], 0)\n",
    "axis_1 = np.size(a25_list[0], 1)\n",
    "print('n_roll:', n_roll)\n",
    "print('batch_size:', batch_size)\n",
    "print('axis_1:', axis_1)"
   ]
  },
  {
   "cell_type": "code",
   "execution_count": 45,
   "metadata": {},
   "outputs": [
    {
     "name": "stdout",
     "output_type": "stream",
     "text": [
      "a25mb25avg: 2340.0\n"
     ]
    }
   ],
   "source": [
    "a25mb25avg=tf.reduce_sum(concat_a25_list*concat_b25_list)/(n_roll*batch_size)\n",
    "with tf.Session() as sess:\n",
    "    print('a25mb25avg:', a25mb25avg.eval())\n"
   ]
  },
  {
   "cell_type": "code",
   "execution_count": 47,
   "metadata": {},
   "outputs": [
    {
     "name": "stdout",
     "output_type": "stream",
     "text": [
      "a25_list_1:\n",
      " [array([[0., 1., 2., 3., 4.],\n",
      "       [5., 6., 7., 8., 9.]]), array([[10., 12., 14., 16., 18.],\n",
      "       [20., 22., 24., 26., 28.]]), array([[ 6.,  8., 10., 12., 14.],\n",
      "       [16., 18., 20., 22., 24.]])]\n",
      "b25_list_1:\n",
      " [array([[50., 52., 54., 56., 58.],\n",
      "       [60., 62., 64., 66., 68.]]), array([[30., 32., 34., 36., 38.],\n",
      "       [40., 42., 44., 46., 48.]]), array([[12., 14., 16., 18., 20.],\n",
      "       [22., 24., 26., 28., 30.]])]\n",
      "a25_list:\n",
      " [array([[0., 1., 2., 3., 4.],\n",
      "       [5., 6., 7., 8., 9.]]), array([[10., 12., 14., 16., 18.],\n",
      "       [20., 22., 24., 26., 28.]]), array([[ 6.,  8., 10., 12., 14.],\n",
      "       [16., 18., 20., 22., 24.]])]\n",
      "b25_list:\n",
      " [array([[50., 52., 54., 56., 58.],\n",
      "       [60., 62., 64., 66., 68.]]), array([[30., 32., 34., 36., 38.],\n",
      "       [40., 42., 44., 46., 48.]]), array([[12., 14., 16., 18., 20.],\n",
      "       [22., 24., 26., 28., 30.]])]\n"
     ]
    }
   ],
   "source": [
    "a25_list_1= [np.array(rev_a_325[ui]) for ui in range(n_roll)]\n",
    "b25_list_1= [np.array(rev_b_325[ui]) for ui in range(n_roll)]\n",
    "print('a25_list_1:\\n', a25_list_1)\n",
    "print('b25_list_1:\\n', b25_list_1)\n",
    "\n",
    "print('a25_list:\\n', a25_list)\n",
    "print('b25_list:\\n', b25_list)"
   ]
  },
  {
   "cell_type": "code",
   "execution_count": 77,
   "metadata": {},
   "outputs": [],
   "source": [
    "x1 = tf.constant([[0., 1., 2., 3., 4.], [5., 6., 7., 8., 9.]])\n",
    "x2 = tf.constant([[10., 12., 14., 16., 18.], [20., 22., 24., 26., 28.]])\n",
    "x3 = tf.constant([[ 6.,  8., 10., 12., 14.], [16., 18., 20., 22., 24.]])                 \n",
    "y1 = tf.constant([[50., 52., 54., 56., 58.], [60., 62., 64., 66., 68.]])\n",
    "y2 = tf.constant([[30., 32., 34., 36., 38.], [40., 42., 44., 46., 48.]])\n",
    "y3 = tf.constant([[12., 14., 16., 18., 20.], [22., 24., 26., 28., 30.]])\n",
    "x = tf.stack([x1, x2, x3], axis=0)\n",
    "x_list = [x1, x2, x3]\n",
    "y = tf.stack([y1, y2, y3], axis=0)\n",
    "y_list = [y1, y2, y3]\n",
    "x_r325 = tf.reshape(x, [2, 3, 5])\n",
    "\n",
    "#x_hs = tf.concat(x, 2)\n",
    "#x_hs = tf.stack(tf.concat(x, 1), axis=1)\n",
    "x_hs = tf.reshape(x, [-1, 5])\n",
    "x_hs_235 = tf.reshape(x_hs, [2, 3, 5])"
   ]
  },
  {
   "cell_type": "code",
   "execution_count": 78,
   "metadata": {},
   "outputs": [
    {
     "name": "stdout",
     "output_type": "stream",
     "text": [
      "x shape: (3, 2, 5) x:\n",
      " [[[ 0.  1.  2.  3.  4.]\n",
      "  [ 5.  6.  7.  8.  9.]]\n",
      "\n",
      " [[10. 12. 14. 16. 18.]\n",
      "  [20. 22. 24. 26. 28.]]\n",
      "\n",
      " [[ 6.  8. 10. 12. 14.]\n",
      "  [16. 18. 20. 22. 24.]]]\n",
      "x_r325:\n",
      " [[[ 0.  1.  2.  3.  4.]\n",
      "  [ 5.  6.  7.  8.  9.]\n",
      "  [10. 12. 14. 16. 18.]]\n",
      "\n",
      " [[20. 22. 24. 26. 28.]\n",
      "  [ 6.  8. 10. 12. 14.]\n",
      "  [16. 18. 20. 22. 24.]]]\n",
      "x_hs:\n",
      " [[ 0.  1.  2.  3.  4.]\n",
      " [ 5.  6.  7.  8.  9.]\n",
      " [10. 12. 14. 16. 18.]\n",
      " [20. 22. 24. 26. 28.]\n",
      " [ 6.  8. 10. 12. 14.]\n",
      " [16. 18. 20. 22. 24.]]\n",
      "x_hs_235:\n",
      " [[[ 0.  1.  2.  3.  4.]\n",
      "  [ 5.  6.  7.  8.  9.]\n",
      "  [10. 12. 14. 16. 18.]]\n",
      "\n",
      " [[20. 22. 24. 26. 28.]\n",
      "  [ 6.  8. 10. 12. 14.]\n",
      "  [16. 18. 20. 22. 24.]]]\n"
     ]
    }
   ],
   "source": [
    "with tf.Session() as sess:\n",
    "    x_v, x_list_v, y_v, y_list_v, x_r325_v,x_hs_v,x_hs_235_v = sess.run(\n",
    "        [x, x_list, y, y_list, x_r325, x_hs, x_hs_235])\n",
    "    print('x shape:', x_v.shape, 'x:\\n', x_v)\n",
    "    #print('x list:\\n', x_list_v)\n",
    "    #print('y shape:', y_v.shape, 'y:\\n', y_v)\n",
    "    #print('y list:\\n', y_list_v)\n",
    "    print('x_r325:\\n', x_r325_v)\n",
    "    print('x_hs:\\n', x_hs_v)\n",
    "    print('x_hs_235:\\n', x_hs_235_v)"
   ]
  },
  {
   "cell_type": "code",
   "execution_count": 107,
   "metadata": {},
   "outputs": [],
   "source": [
    "x_us1_list = tf.unstack(x, axis=1)\n",
    "x_us1_array = tf.stack(x_us1, axis=0)\n",
    "x_us1_soft_list = [tf.nn.softmax(x_us1_list[ui]) for ui in range(2)]"
   ]
  },
  {
   "cell_type": "code",
   "execution_count": 108,
   "metadata": {},
   "outputs": [
    {
     "name": "stdout",
     "output_type": "stream",
     "text": [
      "x_us1_list type: <class 'list'> x_us1_list[0] type: (3, 5) x_us1:\n",
      " [array([[ 0.,  1.,  2.,  3.,  4.],\n",
      "       [10., 12., 14., 16., 18.],\n",
      "       [ 6.,  8., 10., 12., 14.]], dtype=float32), array([[ 5.,  6.,  7.,  8.,  9.],\n",
      "       [20., 22., 24., 26., 28.],\n",
      "       [16., 18., 20., 22., 24.]], dtype=float32)]\n",
      "x_us1_array type: <class 'numpy.ndarray'> x_us1s shape: (2, 3, 5) \n",
      " [[[ 0.  1.  2.  3.  4.]\n",
      "  [10. 12. 14. 16. 18.]\n",
      "  [ 6.  8. 10. 12. 14.]]\n",
      "\n",
      " [[ 5.  6.  7.  8.  9.]\n",
      "  [20. 22. 24. 26. 28.]\n",
      "  [16. 18. 20. 22. 24.]]]\n",
      "x_us1_soft_list type: <class 'list'> x_us1_soft_list[0] shape: (3, 5) \n",
      " [array([[1.1656231e-02, 3.1684920e-02, 8.6128540e-02, 2.3412165e-01,\n",
      "        6.3640863e-01],\n",
      "       [2.9007587e-04, 2.1433870e-03, 1.5837606e-02, 1.1702495e-01,\n",
      "        8.6470395e-01],\n",
      "       [2.9007587e-04, 2.1433870e-03, 1.5837606e-02, 1.1702495e-01,\n",
      "        8.6470395e-01]], dtype=float32), array([[1.1656231e-02, 3.1684920e-02, 8.6128540e-02, 2.3412165e-01,\n",
      "        6.3640863e-01],\n",
      "       [2.9007587e-04, 2.1433870e-03, 1.5837606e-02, 1.1702495e-01,\n",
      "        8.6470395e-01],\n",
      "       [2.9007587e-04, 2.1433870e-03, 1.5837606e-02, 1.1702495e-01,\n",
      "        8.6470395e-01]], dtype=float32)]\n"
     ]
    }
   ],
   "source": [
    "with tf.Session() as sess:\n",
    "    x_us1_list_v, x_us1_array_v, x_us1_soft_list_v = sess.run(\n",
    "        [x_us1_list, x_us1_array, x_us1_soft_list])\n",
    "        \n",
    "    #print('x_us0:\\n',x_us0_v)\n",
    "    print('x_us1_list type:',type(x_us1_list_v),\n",
    "          'x_us1_list[0] type:',x_us1_list_v[0].shape,'x_us1:\\n',\n",
    "          x_us1_list_v)\n",
    "    print('x_us1_array type:',type(x_us1_array_v),\n",
    "          'x_us1s shape:', x_us1_array_v.shape,'\\n',x_us1_array_v)\n",
    "    print('x_us1_soft_list type:',type(x_us1_soft_list_v),\n",
    "          'x_us1_soft_list[0] shape:', x_us1_soft_list_v[0].shape,'\\n',\n",
    "          x_us1_soft_list_v)\n",
    "    #print('x_us2:\\n',x_us2_v)"
   ]
  },
  {
   "cell_type": "code",
   "execution_count": 112,
   "metadata": {},
   "outputs": [
    {
     "data": {
      "text/plain": [
       "8"
      ]
     },
     "execution_count": 112,
     "metadata": {},
     "output_type": "execute_result"
    }
   ],
   "source": [
    "a1= np.array([[0., 1., 2., 3., 4.],  [5., 6., 7., 8., 9.]])\n",
    "text_digt =[5, 7, 4, 8, 0]\n",
    "text_digt[np.random.randint(0,5)]"
   ]
  },
  {
   "cell_type": "code",
   "execution_count": 118,
   "metadata": {},
   "outputs": [
    {
     "name": "stdout",
     "output_type": "stream",
     "text": [
      "[[[0. 0. 0. 0. 0. 0. 0. 1. 0. 0.]]]\n"
     ]
    }
   ],
   "source": [
    "#[np.random.randint(0, 100)]\n",
    "predPhase_word = np.zeros((1, 1, 10),dtype=np.float32) \n",
    "predPhase_word[0, 0, text_digt[np.random.randint(0, 5)]] = 1.0\n",
    "print(predPhase_word)"
   ]
  },
  {
   "cell_type": "code",
   "execution_count": 121,
   "metadata": {},
   "outputs": [
    {
     "ename": "SyntaxError",
     "evalue": "Missing parentheses in call to 'print'. Did you mean print(rnn_cell.state_size)? (<ipython-input-121-7cd0c64c2bbd>, line 13)",
     "output_type": "error",
     "traceback": [
      "\u001b[1;36m  File \u001b[1;32m\"<ipython-input-121-7cd0c64c2bbd>\"\u001b[1;36m, line \u001b[1;32m13\u001b[0m\n\u001b[1;33m    print rnn_cell.state_size\u001b[0m\n\u001b[1;37m                 ^\u001b[0m\n\u001b[1;31mSyntaxError\u001b[0m\u001b[1;31m:\u001b[0m Missing parentheses in call to 'print'. Did you mean print(rnn_cell.state_size)?\n"
     ]
    }
   ],
   "source": [
    "batch_size = 32 # batch大小\n",
    "input_size = 100 # 输入向量xt维度\n",
    "state_size = 128 # 隐藏状态ht维度\n",
    "time_steps = 10 # 序列长度\n",
    "\n",
    "# 首先构造输入 shape为(batch_size, time_steps, input_size)\n",
    "inputs = tf.random_normal(shape=[batch_size, time_steps, input_size], dtype=tf.float32)\n",
    "# inputs = tf.placeholder(dtype = tf.float32, shape = (batch_size, time_steps, input_size))\n",
    "print(inputs.shape)\n",
    "\n",
    "# 创建一个RNNCell对象\n",
    "rnn_cell = tf.nn.rnn_cell.BasicRNNCell(num_units = state_size)\n",
    "print(rnn_cell.state_size)\n",
    "\n",
    "# 创建RNNCell的初始状态\n",
    "initial_state = rnn_cell.zero_state(batch_size, dtype = tf.float32)\n",
    "print(initial_state.shape)\n",
    "\n",
    "# 创建dynamic_rnn\n",
    "outputs, state = tf.nn.dynamic_rnn(rnn_cell, inputs, initial_state = initial_state)\n",
    "\n",
    "with tf.Session() as sess:\n",
    "    sess.run(tf.global_variables_initializer())\n",
    "    output, final_state = sess.run([outputs, state])\n",
    "    print(output.shape)\n",
    "    print(final_state.shape)\n",
    "    print(final_state[0])"
   ]
  },
  {
   "cell_type": "code",
   "execution_count": null,
   "metadata": {},
   "outputs": [],
   "source": []
  }
 ],
 "metadata": {
  "kernelspec": {
   "display_name": "Python 3",
   "language": "python",
   "name": "python3"
  },
  "language_info": {
   "codemirror_mode": {
    "name": "ipython",
    "version": 3
   },
   "file_extension": ".py",
   "mimetype": "text/x-python",
   "name": "python",
   "nbconvert_exporter": "python",
   "pygments_lexer": "ipython3",
   "version": "3.6.5"
  }
 },
 "nbformat": 4,
 "nbformat_minor": 2
}
