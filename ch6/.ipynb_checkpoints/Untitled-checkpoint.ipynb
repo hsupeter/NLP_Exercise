{
 "cells": [
  {
   "cell_type": "code",
   "execution_count": 1,
   "metadata": {},
   "outputs": [],
   "source": [
    "import numpy as np"
   ]
  },
  {
   "cell_type": "code",
   "execution_count": 6,
   "metadata": {},
   "outputs": [
    {
     "name": "stdout",
     "output_type": "stream",
     "text": [
      "c2d=\n",
      " [[ 9 26  7 25 12]\n",
      " [ 8 17 28 22 27]\n",
      " [17 11 27 20 28]\n",
      " [13 23  9 14 24]]\n"
     ]
    }
   ],
   "source": [
    "c2d=  np.random.randint(30, size=(4, 5))\n",
    "print('c2d=\\n',c2d)"
   ]
  },
  {
   "cell_type": "code",
   "execution_count": 11,
   "metadata": {},
   "outputs": [
    {
     "name": "stdout",
     "output_type": "stream",
     "text": [
      "c2dind=  (1, 2)\n",
      "c2dind type  <class 'tuple'>\n",
      "c2dind len  2\n"
     ]
    }
   ],
   "source": [
    "c2dind = np.unravel_index(np.argmax(c2d, axis=None), c2d.shape)\n",
    "print('c2dind= ',c2dind)\n",
    "print('c2dind type ',type(c2dind))\n",
    "print('c2dind len ',len(c2dind))"
   ]
  },
  {
   "cell_type": "code",
   "execution_count": 14,
   "metadata": {},
   "outputs": [
    {
     "name": "stdout",
     "output_type": "stream",
     "text": [
      "2\n"
     ]
    }
   ],
   "source": [
    "indmax_axis1 = c2dind[1]\n",
    "print(indmax_axis1 )"
   ]
  },
  {
   "cell_type": "code",
   "execution_count": 25,
   "metadata": {},
   "outputs": [
    {
     "name": "stdout",
     "output_type": "stream",
     "text": [
      "c3d=\n",
      " [[[31 30 35 24 28 30]\n",
      "  [37 27 48 33  7  1]\n",
      "  [43 44 22 41 25 30]\n",
      "  [24 13 20  5 20 17]]\n",
      "\n",
      " [[24 48 26 42  9 35]\n",
      "  [15 32  7  4 28 15]\n",
      "  [ 8 33 25 20 39 26]\n",
      "  [21 24 19 35 37 43]]\n",
      "\n",
      " [[21 28  7 18 35 48]\n",
      "  [48  1 14 11  5 34]\n",
      "  [19 18 38 28 19 33]\n",
      "  [43 23 18 16 49 21]]]\n"
     ]
    }
   ],
   "source": [
    "c3d =  np.random.randint(50, size=(3,4,6))\n",
    "print('c3d=\\n',c3d)"
   ]
  },
  {
   "cell_type": "code",
   "execution_count": 26,
   "metadata": {},
   "outputs": [
    {
     "name": "stdout",
     "output_type": "stream",
     "text": [
      "c3dind=  (2, 3, 4)\n",
      "c3dind type  <class 'tuple'>\n",
      "c3dind len  3\n"
     ]
    }
   ],
   "source": [
    "c3dind = np.unravel_index(np.argmax(c3d, axis=None), c3d.shape)\n",
    "print('c3dind= ',c3dind)\n",
    "print('c3dind type ',type(c3dind))\n",
    "print('c3dind len ',len(c3dind))"
   ]
  },
  {
   "cell_type": "code",
   "execution_count": 27,
   "metadata": {},
   "outputs": [
    {
     "name": "stdout",
     "output_type": "stream",
     "text": [
      "4\n"
     ]
    }
   ],
   "source": [
    "indmaxaxis2 = c3dind[2]\n",
    "print(indmaxaxis2) "
   ]
  },
  {
   "cell_type": "code",
   "execution_count": 28,
   "metadata": {},
   "outputs": [
    {
     "name": "stdout",
     "output_type": "stream",
     "text": [
      "4\n"
     ]
    }
   ],
   "source": [
    "maxidx = np.unravel_index(np.argmax(c3d, axis=None), c3d.shape)[2]\n",
    "print(maxidx)"
   ]
  },
  {
   "cell_type": "code",
   "execution_count": 31,
   "metadata": {},
   "outputs": [
    {
     "name": "stdout",
     "output_type": "stream",
     "text": [
      "c3d=\n",
      " [[[35 12 46 13 15 20]\n",
      "  [40 21 23 13 30 21]\n",
      "  [40 29 14 41 34 29]\n",
      "  [47  0 17 35 35 44]]\n",
      "\n",
      " [[ 1 35 14 27  2 33]\n",
      "  [47 34 30 41 32 17]\n",
      "  [40 36 47 15 19 19]\n",
      "  [46 39  4 34  6 31]]\n",
      "\n",
      " [[46  5 39 39 47 31]\n",
      "  [25 21 27 21 37 37]\n",
      "  [39  9 42 40 18 47]\n",
      "  [24 15 17 22 43  1]]]\n",
      "c3d=\n",
      " [[[35 12  1 13 15 20]\n",
      "  [ 1 21 23 13 30 21]\n",
      "  [40 29 14  1 34 29]\n",
      "  [ 1  0 17 35 35 44]]\n",
      "\n",
      " [[ 1  1 14 27  2 33]\n",
      "  [ 1 34 30 41 32 17]\n",
      "  [40 36  1 15 19 19]\n",
      "  [ 1 39  4 34  6 31]]\n",
      "\n",
      " [[46  5 39 39  1 31]\n",
      "  [25 21 27 21  1 37]\n",
      "  [39  9 42 40 18  1]\n",
      "  [24 15 17 22  1  1]]]\n"
     ]
    }
   ],
   "source": [
    "c3d =  np.random.randint(50, size=(3,4,6))\n",
    "print('c3d=\\n',c3d)\n",
    "for ui in range(3):\n",
    "    for uj in range(4):\n",
    "        c3d[ui, uj,\n",
    "        np.argmax(c3d[ui][uj])]= 1.0\n",
    "print('c3d=\\n',c3d)"
   ]
  },
  {
   "cell_type": "code",
   "execution_count": 35,
   "metadata": {},
   "outputs": [
    {
     "ename": "IndentationError",
     "evalue": "unexpected indent (<ipython-input-35-01145b1335a2>, line 8)",
     "output_type": "error",
     "traceback": [
      "\u001b[1;36m  File \u001b[1;32m\"<ipython-input-35-01145b1335a2>\"\u001b[1;36m, line \u001b[1;32m8\u001b[0m\n\u001b[1;33m    for ui in range(3)\u001b[0m\n\u001b[1;37m    ^\u001b[0m\n\u001b[1;31mIndentationError\u001b[0m\u001b[1;31m:\u001b[0m unexpected indent\n"
     ]
    }
   ],
   "source": [
    "c3d =  np.random.randint(50, size=(3,4,6))\n",
    "print('c3d=\\n',c3d)\n",
    "#for ui in range(3):\n",
    "#    for uj in range(4):\n",
    "#        c3d[ui, uj,\n",
    "#        np.argmax(c3d[ui][uj])]= 1.0\n",
    "c3dc3d[ui, uj, np.argmax(c3d[ui][uj])] for ui in range(3) for uj in range(4)= 1.0  \n",
    "      \n",
    "print('c3d=\\n',c3d)"
   ]
  },
  {
   "cell_type": "code",
   "execution_count": null,
   "metadata": {},
   "outputs": [],
   "source": []
  }
 ],
 "metadata": {
  "kernelspec": {
   "display_name": "Python 3",
   "language": "python",
   "name": "python3"
  },
  "language_info": {
   "codemirror_mode": {
    "name": "ipython",
    "version": 3
   },
   "file_extension": ".py",
   "mimetype": "text/x-python",
   "name": "python",
   "nbconvert_exporter": "python",
   "pygments_lexer": "ipython3",
   "version": "3.6.5"
  }
 },
 "nbformat": 4,
 "nbformat_minor": 2
}
